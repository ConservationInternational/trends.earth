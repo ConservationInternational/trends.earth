{
 "cells": [
  {
   "cell_type": "markdown",
   "metadata": {},
   "source": [
    "# Example of how to access Trends.Earth API for LandPKS"
   ]
  },
  {
   "cell_type": "code",
   "execution_count": 44,
   "metadata": {},
   "outputs": [],
   "source": [
    "import json\n",
    "import requests\n",
    "import time\n",
    "from getpass import getpass\n",
    "\n",
    "import ipyplot\n",
    "from IPython.display import Image"
   ]
  },
  {
   "cell_type": "markdown",
   "metadata": {},
   "source": [
    "##  Login"
   ]
  },
  {
   "cell_type": "code",
   "execution_count": 45,
   "metadata": {},
   "outputs": [
    {
     "name": "stdin",
     "output_type": "stream",
     "text": [
      "Email:  azvoleff@conservation.org\n",
      "Password:  ····················\n"
     ]
    },
    {
     "name": "stdout",
     "output_type": "stream",
     "text": [
      "Logged in as azvoleff@conservation.org.\n"
     ]
    }
   ],
   "source": [
    "api_url = \"https://api.trends.earth\"\n",
    "#api_url = \"http://localhost:3000\"\n",
    "email, password = input(\"Email: \"), getpass(\"Password: \")\n",
    "creds = {\"email\": email, \"password\": password}\n",
    "auth_url = api_url + \"/auth\"\n",
    "\n",
    "auth_resp = requests.post(auth_url, json=creds)\n",
    "if auth_resp.status_code == 200:\n",
    "    print(\"Logged in as {}.\".format(email))\n",
    "    token = auth_resp.json()[\"access_token\"]\n",
    "else:\n",
    "    print(\"Error logging in. Sever returned {}.\".format(auth_resp.status_code))"
   ]
  },
  {
   "cell_type": "markdown",
   "metadata": {},
   "source": [
    "## Submit task and poll for results"
   ]
  },
  {
   "cell_type": "code",
   "execution_count": 58,
   "metadata": {},
   "outputs": [
    {
     "name": "stdout",
     "output_type": "stream",
     "text": [
      "Submission took 0.7647826671600342 seconds\n",
      "<Response [400]>\n"
     ]
    },
    {
     "ename": "KeyError",
     "evalue": "'data'",
     "output_type": "error",
     "traceback": [
      "\u001b[1;31m---------------------------------------------------------------------------\u001b[0m",
      "\u001b[1;31mKeyError\u001b[0m                                  Traceback (most recent call last)",
      "Cell \u001b[1;32mIn[58], line 37\u001b[0m\n\u001b[0;32m     32\u001b[0m         n \u001b[38;5;241m+\u001b[39m\u001b[38;5;241m=\u001b[39m \u001b[38;5;241m1\u001b[39m\n\u001b[0;32m     35\u001b[0m \u001b[38;5;28mprint\u001b[39m(resp_run)\n\u001b[1;32m---> 37\u001b[0m res \u001b[38;5;241m=\u001b[39m get_results(\u001b[43mresp_run\u001b[49m\u001b[38;5;241;43m.\u001b[39;49m\u001b[43mjson\u001b[49m\u001b[43m(\u001b[49m\u001b[43m)\u001b[49m\u001b[43m[\u001b[49m\u001b[38;5;124;43m\"\u001b[39;49m\u001b[38;5;124;43mdata\u001b[39;49m\u001b[38;5;124;43m\"\u001b[39;49m\u001b[43m]\u001b[49m[\u001b[38;5;124m\"\u001b[39m\u001b[38;5;124mid\u001b[39m\u001b[38;5;124m\"\u001b[39m])\n\u001b[0;32m     38\u001b[0m \u001b[38;5;28mprint\u001b[39m(\u001b[38;5;124m\"\u001b[39m\u001b[38;5;124mProcessing took \u001b[39m\u001b[38;5;132;01m{}\u001b[39;00m\u001b[38;5;124m seconds\u001b[39m\u001b[38;5;124m\"\u001b[39m\u001b[38;5;241m.\u001b[39mformat(time\u001b[38;5;241m.\u001b[39mtime() \u001b[38;5;241m-\u001b[39m start_time))\n\u001b[0;32m     39\u001b[0m \u001b[38;5;28mprint\u001b[39m(\u001b[38;5;124m\"\u001b[39m\u001b[38;5;124mReturn from server:\u001b[39m\u001b[38;5;124m\"\u001b[39m)\n",
      "\u001b[1;31mKeyError\u001b[0m: 'data'"
     ]
    }
   ],
   "source": [
    "start_time = time.time()\n",
    "params = {\n",
    "    \"user\": \"azvoleff@conservation.org\",\n",
    "    \"lang\": \"ES\",\n",
    "    \"year_start\": 2001,\n",
    "    \"year_end\": 2022,\n",
    "    \"geojson\": '{\"coordinates\": [36.43006246, -0.71011347], \"type\": \"Point\"}',\n",
    "}\n",
    "resp_run = requests.post(\n",
    "    api_url + \"/api/v1/script/landpks-2-1-16/run\",\n",
    "    json=params,\n",
    "    headers={\"Authorization\": \"Bearer {}\".format(token)},\n",
    ")\n",
    "print(\"Submission took {} seconds\".format(time.time() - start_time))\n",
    "\n",
    "\n",
    "def get_results(id):\n",
    "    n = 0\n",
    "    while True:\n",
    "        resp = requests.get(\n",
    "            api_url + \"/api/v1/execution/{}\".format(id),\n",
    "            json={\"user\": \"azvoleff@gmail.com\"},\n",
    "            headers={\"Authorization\": \"Bearer {}\".format(token)},\n",
    "        )\n",
    "        if resp.json()[\"data\"][\"status\"] == \"FINISHED\":\n",
    "            return resp.json()\n",
    "        elif resp.json()[\"data\"][\"status\"] == \"FAILED\":\n",
    "            return \"Failed\"\n",
    "        elif n > 400:\n",
    "            return \"Timeout\"\n",
    "        time.sleep(0.2)\n",
    "        n += 1\n",
    "\n",
    "\n",
    "print(resp_run)\n",
    "\n",
    "res = get_results(resp_run.json()[\"data\"][\"id\"])\n",
    "print(\"Processing took {} seconds\".format(time.time() - start_time))\n",
    "print(\"Return from server:\")\n",
    "# The required data is in the 'results' dictionary. Images will be deleted after 14 days.\n",
    "# print(json.dumps(res['data']['results'], indent=4))\n",
    "images = [\n",
    "    res[\"data\"][\"results\"][\"landtrend_plot\"][\"url\"][\"url\"],\n",
    "    res[\"data\"][\"results\"][\"base_image\"][\"url\"][\"url\"],\n",
    "    res[\"data\"][\"results\"][\"greenness\"][\"url\"][\"url\"],\n",
    "    res[\"data\"][\"results\"][\"greenness_trend\"][\"url\"][\"url\"],\n",
    "]\n",
    "ipyplot.plot_images(images, img_width=600)"
   ]
  }
 ],
 "metadata": {
  "kernelspec": {
   "display_name": "gee",
   "language": "python",
   "name": "gee"
  },
  "language_info": {
   "codemirror_mode": {
    "name": "ipython",
    "version": 3
   },
   "file_extension": ".py",
   "mimetype": "text/x-python",
   "name": "python",
   "nbconvert_exporter": "python",
   "pygments_lexer": "ipython3",
   "version": "3.10.13"
  }
 },
 "nbformat": 4,
 "nbformat_minor": 4
}
