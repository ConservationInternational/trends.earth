{
 "cells": [
  {
   "cell_type": "markdown",
   "id": "cb4656df",
   "metadata": {},
   "source": [
    "# SDG 15.3.1 Error Recode Script Example\n",
    "\n",
    "This notebook demonstrates how to use the SDG 15.3.1 error recode script via the trends.earth API. The script supports both single-period and multi-period land degradation jobs and allows for recoding specific areas based on error polygons."
   ]
  },
  {
   "cell_type": "markdown",
   "id": "b31a1154",
   "metadata": {},
   "source": [
    "## 1. Setup Environment and Import Libraries"
   ]
  },
  {
   "cell_type": "markdown",
   "id": "964d9ecc",
   "metadata": {},
   "source": [
    "Before running this notebook, make sure you have:\n",
    "\n",
    "1. **Installed dependencies**: `pip install -r requirements.txt`\n",
    "2. **Created environment file**: Copy `.env.example` to `.env` and update with your credentials:\n",
    "   ```bash\n",
    "   cp .env.example .env\n",
    "   ```\n",
    "3. **Updated credentials** in the `.env` file:\n",
    "   ```\n",
    "   API_BASE_URL=https://api.trends.earth\n",
    "   API_USERNAME=your_actual_username\n",
    "   API_PASSWORD=your_actual_password\n",
    "   ```"
   ]
  },
  {
   "cell_type": "code",
   "execution_count": 7,
   "id": "5d50c97d",
   "metadata": {},
   "outputs": [
    {
     "name": "stdout",
     "output_type": "stream",
     "text": [
      "Libraries imported successfully!\n",
      "Environment variables loaded from .env file\n"
     ]
    }
   ],
   "source": [
    "import json\n",
    "import uuid\n",
    "import warnings\n",
    "from pprint import pprint\n",
    "\n",
    "import matplotlib.pyplot as plt\n",
    "import numpy as np\n",
    "from dotenv import load_dotenv\n",
    "\n",
    "# Load environment variables from .env file\n",
    "load_dotenv()\n",
    "\n",
    "# Import the shared API client\n",
    "import folium\n",
    "import rasterio\n",
    "import rasterio.mask\n",
    "from trendsearth_api import TrendsEarthAPIClient\n",
    "\n",
    "# Suppress warnings for cleaner output\n",
    "warnings.filterwarnings(\"ignore\")\n",
    "\n",
    "print(\"Libraries imported successfully!\")\n",
    "print(\"Environment variables loaded from .env file\")"
   ]
  },
  {
   "cell_type": "markdown",
   "id": "fdf01a26",
   "metadata": {},
   "source": [
    "## 2. Configure API Connection and Authentication"
   ]
  },
  {
   "cell_type": "code",
   "execution_count": 8,
   "id": "323451c3",
   "metadata": {},
   "outputs": [
    {
     "name": "stdout",
     "output_type": "stream",
     "text": [
      "Using API URL from environment: https://api.trends.earth\n",
      "Authenticating with Trends.Earth API...\n",
      "   Using email: trends.earth-prais-server@trends.earth\n",
      "Successfully authenticated with Trends.Earth API\n",
      "Ready to submit error recode jobs!\n"
     ]
    }
   ],
   "source": [
    "# Initialize the API client\n",
    "api_client = TrendsEarthAPIClient()\n",
    "\n",
    "# Authenticate using environment variables from .env file\n",
    "if api_client.authenticate_from_env():\n",
    "    print(\"Ready to submit error recode jobs!\")\n",
    "    session = api_client.session  # For compatibility with existing code\n",
    "else:\n",
    "    print(\"Authentication failed - check your .env file\")\n",
    "    print(\"Please ensure your .env file contains:\")\n",
    "    print(\"- API_USERNAME=your_username\")\n",
    "    print(\"- API_PASSWORD=your_password\")\n",
    "    print(\"- API_BASE_URL=https://api.trends.earth (optional)\")\n",
    "    session = None"
   ]
  },
  {
   "cell_type": "markdown",
   "id": "de2e8c81",
   "metadata": {},
   "source": [
    "## 3. Define Example Parameters for Error Recoding"
   ]
  },
  {
   "cell_type": "markdown",
   "id": "a3871629",
   "metadata": {},
   "source": [
    "### Multi-period Data Support\n",
    "\n",
    "The  error recode script uses the `filters` parameter to select specific reporting periods for multi-period land degradation jobs:\n",
    "\n",
    "**For Single-period Jobs:**\n",
    "```python\n",
    "\"filters\": []  # No filters needed\n",
    "```\n",
    "\n",
    "**For Multi-period Jobs:**\n",
    "```python\n",
    "\"filters\": [{\"field\": \"reporting_year_final\", \"value\": 2020}]  # Target specific year\n",
    "```\n",
    "\n",
    "### Error Polygon Schema Requirements\n",
    "\n",
    "The error polygons must follow the trends.earth schema validation requirements:\n",
    "\n",
    "**Required Properties:**\n",
    "- `uuid`: A unique identifier (auto-generated UUID string)\n",
    "- `type`: Must be \"Feature\" for each feature\n",
    "\n",
    "**Optional Properties:**\n",
    "- `location_name`: Descriptive name for the error area\n",
    "- `area_km_sq`: Area in square kilometers\n",
    "- `process_driving_change`: Description of what caused the error\n",
    "- `basis_for_judgement`: Justification for the correction\n",
    "\n",
    "**Recode Options** (all optional, use None to leave unchanged):\n",
    "- `recode_deg_to`: What to recode degraded pixels to\n",
    "  - `None`: No change (default)\n",
    "  - `-32768`: No data\n",
    "  - `0`: Stable\n",
    "  - `1`: Improved\n",
    "- `recode_stable_to`: What to recode stable pixels to\n",
    "  - `None`: No change (default) \n",
    "  - `-32768`: No data\n",
    "  - `-1`: Degraded\n",
    "  - `1`: Improved\n",
    "- `recode_imp_to`: What to recode improved pixels to\n",
    "  - `None`: No change (default)\n",
    "  - `-32768`: No data\n",
    "  - `-1`: Degraded\n",
    "  - `0`: Stable"
   ]
  },
  {
   "cell_type": "code",
   "execution_count": 9,
   "id": "7dfdc9f7",
   "metadata": {},
   "outputs": [],
   "source": [
    "with open(\"ATG_polygon.geojson\", \"r\") as f:\n",
    "    atg_polygon = json.load(f)\n",
    "\n",
    "params = {\n",
    "    \"iso\": \"ATG\",\n",
    "    \"boundary_dataset\": \"UN\",\n",
    "    \"write_tifs\": False,\n",
    "    \"aoi\": json.dumps(atg_polygon),\n",
    "    \"error_polygons\": {\n",
    "        \"type\": \"FeatureCollection\",\n",
    "        \"name\": \"test error recode\",\n",
    "        \"crs\": {\n",
    "            \"type\": \"name\",\n",
    "            \"properties\": {\"name\": \"urn:ogc:def:crs:OGC:1.3:CRS84\"},\n",
    "        },\n",
    "        \"features\": [\n",
    "            {\n",
    "                \"type\": \"Feature\",\n",
    "                \"properties\": {\n",
    "                    \"uuid\": str(uuid.uuid4()),\n",
    "                    \"location_name\": \"False degradation - mining misclassified\",\n",
    "                    \"area_km_sq\": 0.04,\n",
    "                    \"process_driving_change\": \"Open pit mining misclassified as degradation\",\n",
    "                    \"basis_for_judgement\": \"Ground truth verification shows managed mining operation\",\n",
    "                    \"recode_deg_to\": 0,  # Recode degraded pixels to stable\n",
    "                    \"recode_stable_to\": None,  # No change to stable pixels\n",
    "                    \"recode_imp_to\": None,  # No change to improved pixels\n",
    "                    \"periods_affected\": [\"baseline\"],\n",
    "                },\n",
    "                \"geometry\": {\n",
    "                    \"type\": \"Polygon\",\n",
    "                    \"coordinates\": [\n",
    "                        [\n",
    "                            [-61.85, 17.05],\n",
    "                            [-61.8, 17.05],\n",
    "                            [-61.8, 17.1],\n",
    "                            [-61.85, 17.1],\n",
    "                            [-61.85, 17.05],\n",
    "                        ]\n",
    "                    ],\n",
    "                },\n",
    "            },\n",
    "            {\n",
    "                \"type\": \"Feature\",\n",
    "                \"properties\": {\n",
    "                    \"uuid\": str(uuid.uuid4()),\n",
    "                    \"location_name\": \"Restoration success not captured\",\n",
    "                    \"area_km_sq\": 0.02,\n",
    "                    \"process_driving_change\": \"Successful restoration not detected by algorithm\",\n",
    "                    \"basis_for_judgement\": \"Field monitoring shows vegetation recovery\",\n",
    "                    \"recode_deg_to\": 1,  # Recode degraded pixels to improved\n",
    "                    \"recode_stable_to\": 1,  # Also recode stable pixels to improved\n",
    "                    \"recode_imp_to\": None,  # Keep improved pixels as is\n",
    "                    \"periods_affected\": [\"baseline\", \"reporting_2\"],\n",
    "                },\n",
    "                \"geometry\": {\n",
    "                    \"type\": \"Polygon\",\n",
    "                    \"coordinates\": [\n",
    "                        [\n",
    "                            [-61.82, 17.08],\n",
    "                            [-61.78, 17.08],\n",
    "                            [-61.78, 17.12],\n",
    "                            [-61.82, 17.12],\n",
    "                            [-61.82, 17.08],\n",
    "                        ]\n",
    "                    ],\n",
    "                },\n",
    "            },\n",
    "            {\n",
    "                \"type\": \"Feature\",\n",
    "                \"properties\": {\n",
    "                    \"uuid\": str(uuid.uuid4()),\n",
    "                    \"location_name\": \"Data quality issue\",\n",
    "                    \"area_km_sq\": 0.01,\n",
    "                    \"process_driving_change\": \"Cloud contamination in satellite data\",\n",
    "                    \"basis_for_judgement\": \"Visual inspection shows persistent cloud cover\",\n",
    "                    \"recode_deg_to\": -32768,  # Set all to no data due to poor data quality\n",
    "                    \"recode_stable_to\": -32768,  # Set all to no data\n",
    "                    \"recode_imp_to\": -32768,  # Set all to no data\n",
    "                    \"periods_affected\": [\"reporting_2\"],\n",
    "                },\n",
    "                \"geometry\": {\n",
    "                    \"type\": \"Polygon\",\n",
    "                    \"coordinates\": [\n",
    "                        [\n",
    "                            [-61.88, 17.15],\n",
    "                            [-61.84, 17.15],\n",
    "                            [-61.84, 17.18],\n",
    "                            [-61.88, 17.18],\n",
    "                            [-61.88, 17.15],\n",
    "                        ]\n",
    "                    ],\n",
    "                },\n",
    "            },\n",
    "        ],\n",
    "    },\n",
    "}"
   ]
  },
  {
   "cell_type": "markdown",
   "id": "6218d598",
   "metadata": {},
   "source": [
    "## 4. Submit Job Execution to API"
   ]
  },
  {
   "cell_type": "code",
   "execution_count": 10,
   "id": "82d0d24e",
   "metadata": {},
   "outputs": [
    {
     "name": "stdout",
     "output_type": "stream",
     "text": [
      " Submitting error recode job...\n",
      "Job submitted. Monitoring job status...\n",
      "Status: READY\n",
      "Status: FAILED\n",
      "Job failed!\n"
     ]
    }
   ],
   "source": [
    "if api_client.access_token:\n",
    "    print(\" Submitting error recode job...\")\n",
    "    execution_id = api_client.submit_job(\"sdg-15-3-1-error-recode-2-1-17\", params)\n",
    "\n",
    "    if execution_id:\n",
    "        print(\"Job submitted. Monitoring job status...\")\n",
    "\n",
    "        # Monitor the job until completion\n",
    "        final_status = api_client.monitor_job(execution_id, max_minutes=15)\n",
    "\n",
    "        if final_status:\n",
    "            status = final_status.get(\"status\", \"unknown\").upper()\n",
    "            if status in [\"SUCCESS\", \"FINISHED\"]:\n",
    "                print(\"✅ Error recode job completed successfully!\")\n",
    "\n",
    "                # The results should be available in the job data\n",
    "                results = final_status.get(\"results\", {})\n",
    "                if results:\n",
    "                    print(\"Results available\")\n",
    "                    pprint(results)\n",
    "                else:\n",
    "                    print(\"No results data found in job response\")\n",
    "        else:\n",
    "            print(\"❌ Failed to monitor job\")\n",
    "    else:\n",
    "        print(\"❌ Failed to submit job\")\n",
    "else:\n",
    "    print(\"❌ Cannot submit job: not authenticated\")\n",
    "    print(\"Please check your credentials and authentication\")"
   ]
  }
 ],
 "metadata": {
  "kernelspec": {
   "display_name": "trends.earth",
   "language": "python",
   "name": "python3"
  },
  "language_info": {
   "codemirror_mode": {
    "name": "ipython",
    "version": 3
   },
   "file_extension": ".py",
   "mimetype": "text/x-python",
   "name": "python",
   "nbconvert_exporter": "python",
   "pygments_lexer": "ipython3",
   "version": "3.13.5"
  }
 },
 "nbformat": 4,
 "nbformat_minor": 5
}
