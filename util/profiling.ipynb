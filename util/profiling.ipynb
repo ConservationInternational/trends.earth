{
 "cells": [
  {
   "cell_type": "markdown",
   "metadata": {},
   "source": [
    "# read data"
   ]
  },
  {
   "cell_type": "code",
   "execution_count": 1,
   "metadata": {},
   "outputs": [],
   "source": [
    "import pstats\n",
    "\n",
    "p = pstats.Stats('../calculate_ldn_stats')\n",
    "p = p.strip_dirs()"
   ]
  },
  {
   "cell_type": "code",
   "execution_count": 2,
   "metadata": {},
   "outputs": [
    {
     "name": "stdout",
     "output_type": "stream",
     "text": [
      "Sat Oct 12 08:37:44 2019    ../calculate_ldn_stats\n",
      "\n",
      "         1063136 function calls (1063094 primitive calls) in 4.093 seconds\n",
      "\n",
      "   Ordered by: cumulative time\n",
      "   List reduced from 151 to 10 due to restriction <10>\n",
      "\n",
      "   ncalls  tottime  percall  cumtime  percall filename:lineno(function)\n",
      "    46080    0.141    0.000    2.160    0.000 arraysetops.py:113(unique)\n",
      "    46080    0.428    0.000    1.893    0.000 arraysetops.py:250(_unique1d)\n",
      "    46080    0.359    0.000    1.099    0.000 numpy_fix.py:8(concatenate)\n",
      "    46080    0.573    0.000    0.573    0.000 {built-in method LDMP.calculate_numba.ldn_total_by_trans_merge}\n",
      "      912    0.004    0.000    0.430    0.000 gdal.py:2521(ReadAsArray)\n",
      "      912    0.009    0.000    0.388    0.000 gdal_array.py:312(BandReadAsArray)\n",
      "      960    0.002    0.000    0.366    0.000 gdal_array.py:144(BandRasterIONumPy)\n",
      "      960    0.364    0.000    0.364    0.000 {built-in method osgeo._gdal_array.BandRasterIONumPy}\n",
      "      360    0.363    0.001    0.363    0.001 {built-in method LDMP.summary_numba.xtab_i16}\n",
      "    92160    0.141    0.000    0.248    0.000 numeric.py:534(asanyarray)\n",
      "\n",
      "\n"
     ]
    },
    {
     "data": {
      "text/plain": [
       "<pstats.Stats at 0x10dbcd55b38>"
      ]
     },
     "execution_count": 2,
     "metadata": {},
     "output_type": "execute_result"
    }
   ],
   "source": [
    "p.sort_stats('cumulative').print_stats(10)"
   ]
  },
  {
   "cell_type": "code",
   "execution_count": 19,
   "metadata": {},
   "outputs": [
    {
     "name": "stdout",
     "output_type": "stream",
     "text": [
      "Sat Oct 12 08:37:44 2019    ../calculate_ldn_stats\n",
      "\n",
      "         1063136 function calls (1063094 primitive calls) in 4.093 seconds\n",
      "\n",
      "   Ordered by: internal time\n",
      "   List reduced from 151 to 10 due to restriction <10>\n",
      "\n",
      "   ncalls  tottime  percall  cumtime  percall filename:lineno(function)\n",
      "    46080    0.573    0.000    0.573    0.000 {built-in method LDMP.calculate_numba.ldn_total_by_trans_merge}\n",
      "    46080    0.428    0.000    1.893    0.000 arraysetops.py:250(_unique1d)\n",
      "      960    0.364    0.000    0.364    0.000 {built-in method osgeo._gdal_array.BandRasterIONumPy}\n",
      "      360    0.363    0.001    0.363    0.001 {built-in method LDMP.summary_numba.xtab_i16}\n",
      "    46080    0.359    0.000    1.099    0.000 numpy_fix.py:8(concatenate)\n",
      "    46080    0.234    0.000    0.234    0.000 {built-in method LDMP.calculate_numba.ldn_total_by_trans}\n",
      "   184362    0.216    0.000    0.216    0.000 {built-in method builtins.getattr}\n",
      "    46080    0.191    0.000    0.191    0.000 {built-in method numpy.core.multiarray.concatenate}\n",
      "    46080    0.141    0.000    2.160    0.000 arraysetops.py:113(unique)\n",
      "    92160    0.141    0.000    0.248    0.000 numeric.py:534(asanyarray)\n",
      "\n",
      "\n"
     ]
    },
    {
     "data": {
      "text/plain": [
       "<pstats.Stats at 0x228472b91d0>"
      ]
     },
     "execution_count": 19,
     "metadata": {},
     "output_type": "execute_result"
    }
   ],
   "source": [
    "p.sort_stats('time').print_stats(10)"
   ]
  }
 ],
 "metadata": {
  "kernelspec": {
   "display_name": "Python 3",
   "language": "python",
   "name": "python3"
  },
  "language_info": {
   "codemirror_mode": {
    "name": "ipython",
    "version": 3
   },
   "file_extension": ".py",
   "mimetype": "text/x-python",
   "name": "python",
   "nbconvert_exporter": "python",
   "pygments_lexer": "ipython3",
   "version": "3.8.5"
  }
 },
 "nbformat": 4,
 "nbformat_minor": 4
}
