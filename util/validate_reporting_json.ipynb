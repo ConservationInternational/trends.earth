{
 "cells": [
  {
   "cell_type": "code",
   "execution_count": 4,
   "metadata": {},
   "outputs": [],
   "source": [
    "import json\n",
    "\n",
    "with open(\"D:/Documents and Settings/azvoleff/trends_earth_data/datasets/final-sdg-15-3-1_guyana-all-regions_202107281254_b91e51e6-4f0e-4293-9a97-a5a930eee86a_summary.json\") as f:\n",
    "  d = json.load(f)\n"
   ]
  },
  {
   "cell_type": "code",
   "execution_count": 6,
   "metadata": {},
   "outputs": [
    {
     "name": "stdout",
     "output_type": "stream",
     "text": [
      "dict_keys(['metadata', 'land_condition', 'affected_population', 'drought'])\n"
     ]
    }
   ],
   "source": [
    "print(d.keys())"
   ]
  },
  {
   "cell_type": "code",
   "execution_count": 39,
   "metadata": {},
   "outputs": [
    {
     "name": "stdout",
     "output_type": "stream",
     "text": [
      "country area from sdg summary: 209899.3504759961\n",
      "country area from productivity summary: 209899.34983973438\n",
      "country area from land_cover summary: 209899.34983973438\n",
      "country area from soil_organic_carbon summary: 442964.12837862887\n",
      "soil_organic_carbon summary: {'name': 'Soil organic carbon', 'unit': 'sq km', 'areas': [{'name': 'Improved', 'area': 38.79609903125}, {'name': 'Stable', 'area': 442583.371864}, {'name': 'Degraded', 'area': 341.9604155976562}, {'name': 'No data', 'area': 0.0}]}\n",
      "209899.3504759961\n",
      "dict_keys(['name', 'unit', 'initial_year', 'final_year', 'values'])\n",
      "[{'name': 'Land cover', 'year': 2001, 'unit': 'sq km', 'values': [{'name': 'Tree-covered', 'value': 192864.9074216875}, {'name': 'Grassland', 'value': 10237.172109847656}, {'name': 'Cropland', 'value': 2940.1201405234374}, {'name': 'Wetland', 'value': 4001.0887797031246}, {'name': 'Artificial', 'value': 148.05043475}, {'name': 'Other land', 'value': 33.24333601953125}, {'name': 'Water body', 'value': 991.3522261640625}]}, {'name': 'Land cover', 'year': 2002, 'unit': 'sq km', 'values': [{'name': 'Tree-covered', 'value': 192870.9194136875}, {'name': 'Grassland', 'value': 10233.957596597656}, {'name': 'Cropland', 'value': 2943.1313540234373}, {'name': 'Wetland', 'value': 3992.377672328125}, {'name': 'Artificial', 'value': 148.60546474999998}, {'name': 'Other land', 'value': 33.614447222656246}, {'name': 'Water body', 'value': 993.3284096640624}]}, {'name': 'Land cover', 'year': 2003, 'unit': 'sq km', 'values': [{'name': 'Tree-covered', 'value': 192864.87083668748}, {'name': 'Grassland', 'value': 10237.420137972656}, {'name': 'Cropland', 'value': 2939.2912299609375}, {'name': 'Wetland', 'value': 3994.478138828125}, {'name': 'Artificial', 'value': 149.53041274999998}, {'name': 'Other land', 'value': 33.614447222656246}, {'name': 'Water body', 'value': 996.7295016640625}]}, {'name': 'Land cover', 'year': 2004, 'unit': 'sq km', 'values': [{'name': 'Tree-covered', 'value': 192228.84564906248}, {'name': 'Grassland', 'value': 10364.296785269531}, {'name': 'Cropland', 'value': 3197.5560912929686}, {'name': 'Wetland', 'value': 3893.03025}, {'name': 'Artificial', 'value': 182.14645833203124}, {'name': 'Other land', 'value': 35.15982934765625}, {'name': 'Water body', 'value': 1314.8996813945312}]}, {'name': 'Land cover', 'year': 2005, 'unit': 'sq km', 'values': [{'name': 'Tree-covered', 'value': 192255.80284106248}, {'name': 'Grassland', 'value': 10347.593398519532}, {'name': 'Cropland', 'value': 3188.4735712929687}, {'name': 'Wetland', 'value': 3888.9562339999998}, {'name': 'Artificial', 'value': 183.00973433203123}, {'name': 'Other land', 'value': 35.03619934765625}, {'name': 'Water body', 'value': 1317.0624103945313}]}, {'name': 'Land cover', 'year': 2006, 'unit': 'sq km', 'values': [{'name': 'Tree-covered', 'value': 192272.4078828125}, {'name': 'Grassland', 'value': 10339.32251101953}, {'name': 'Cropland', 'value': 3179.2169012929685}, {'name': 'Wetland', 'value': 3887.1676370625}, {'name': 'Artificial', 'value': 186.15411433203124}, {'name': 'Other land', 'value': 34.85074834765625}, {'name': 'Water body', 'value': 1316.814606769531}]}, {'name': 'Land cover', 'year': 2007, 'unit': 'sq km', 'values': [{'name': 'Tree-covered', 'value': 192279.2793028125}, {'name': 'Grassland', 'value': 10331.458308644531}, {'name': 'Cropland', 'value': 3175.8225197929687}, {'name': 'Wetland', 'value': 3888.9626355624996}, {'name': 'Artificial', 'value': 188.86695058203125}, {'name': 'Other land', 'value': 37.19859722265625}, {'name': 'Water body', 'value': 1314.3461531210937}]}, {'name': 'Land cover', 'year': 2008, 'unit': 'sq km', 'values': [{'name': 'Tree-covered', 'value': 192283.6008948125}, {'name': 'Grassland', 'value': 10328.186381644531}, {'name': 'Cropland', 'value': 3171.1336765429687}, {'name': 'Wetland', 'value': 3890.8139155625}, {'name': 'Artificial', 'value': 190.7170295}, {'name': 'Other land', 'value': 36.95155722265625}, {'name': 'Water body', 'value': 1314.5312731210936}]}, {'name': 'Land cover', 'year': 2009, 'unit': 'sq km', 'values': [{'name': 'Tree-covered', 'value': 192282.1809348125}, {'name': 'Grassland', 'value': 10327.260127144531}, {'name': 'Cropland', 'value': 3169.2830525429686}, {'name': 'Wetland', 'value': 3890.9361635625}, {'name': 'Artificial', 'value': 192.691016125}, {'name': 'Other land', 'value': 37.75471272265625}, {'name': 'Water body', 'value': 1315.8288322695312}]}, {'name': 'Land cover', 'year': 2010, 'unit': 'sq km', 'values': [{'name': 'Tree-covered', 'value': 192275.5761108125}, {'name': 'Grassland', 'value': 10328.74285564453}, {'name': 'Cropland', 'value': 3169.9022739179686}, {'name': 'Wetland', 'value': 3891.1823383203123}, {'name': 'Artificial', 'value': 195.15771512499998}, {'name': 'Other land', 'value': 37.75471272265625}, {'name': 'Water body', 'value': 1317.6187492695312}]}, {'name': 'Land cover', 'year': 2011, 'unit': 'sq km', 'values': [{'name': 'Tree-covered', 'value': 192272.6109828125}, {'name': 'Grassland', 'value': 10329.05214164453}, {'name': 'Cropland', 'value': 3169.2275926679686}, {'name': 'Wetland', 'value': 3890.0704773203124}, {'name': 'Artificial', 'value': 198.425875921875}, {'name': 'Other land', 'value': 37.75471272265625}, {'name': 'Water body', 'value': 1318.7929652695311}]}, {'name': 'Land cover', 'year': 2012, 'unit': 'sq km', 'values': [{'name': 'Tree-covered', 'value': 192273.7224788125}, {'name': 'Grassland', 'value': 10330.288057644531}, {'name': 'Cropland', 'value': 3164.1715674179686}, {'name': 'Wetland', 'value': 3886.1191198203123}, {'name': 'Artificial', 'value': 205.023877984375}, {'name': 'Other land', 'value': 37.75471272265625}, {'name': 'Water body', 'value': 1318.8548612695313}]}, {'name': 'Land cover', 'year': 2013, 'unit': 'sq km', 'values': [{'name': 'Tree-covered', 'value': 192257.5895348125}, {'name': 'Grassland', 'value': 10344.50588564453}, {'name': 'Cropland', 'value': 3163.0654194179688}, {'name': 'Wetland', 'value': 3885.686383820312}, {'name': 'Artificial', 'value': 208.045447734375}, {'name': 'Other land', 'value': 37.63110615234375}, {'name': 'Water body', 'value': 1319.4109732695313}]}, {'name': 'Land cover', 'year': 2014, 'unit': 'sq km', 'values': [{'name': 'Tree-covered', 'value': 192256.78731081248}, {'name': 'Grassland', 'value': 10344.99954223047}, {'name': 'Cropland', 'value': 3160.598368578125}, {'name': 'Wetland', 'value': 3888.1433340703124}, {'name': 'Artificial', 'value': 211.19079123437498}, {'name': 'Other land', 'value': 37.63110615234375}, {'name': 'Water body', 'value': 1316.5843370195312}]}, {'name': 'Land cover', 'year': 2015, 'unit': 'sq km', 'values': [{'name': 'Tree-covered', 'value': 192256.54075081248}, {'name': 'Grassland', 'value': 10344.99954223047}, {'name': 'Cropland', 'value': 3158.9950905781247}, {'name': 'Wetland', 'value': 3888.1433340703124}, {'name': 'Artificial', 'value': 213.04062198437498}, {'name': 'Other land', 'value': 37.63110615234375}, {'name': 'Water body', 'value': 1316.5843370195312}]}]\n",
      "dict_keys(['summary', 'legend_nesting', 'transition_matrix', 'crosstab_by_land_cover_class', 'land_cover_areas_by_year'])\n"
     ]
    }
   ],
   "source": [
    "land_condition_baseline = d['land_condition']['baseline']\n",
    "\n",
    "# Check total country area - is 214,970 km² on google\n",
    "print('country area from sdg summary: {}'.format(sum([a['area'] for a in land_condition_baseline['sdg']['summary']['areas']])))\n",
    "\n",
    "print('country area from productivity summary: {}'.format(sum([a['area'] for a in land_condition_baseline['productivity']['summary']['areas']])))\n",
    "print('country area from land_cover summary: {}'.format(sum([a['area'] for a in land_condition_baseline['productivity']['summary']['areas']])))\n",
    "print('country area from soil_organic_carbon summary: {}'.format(sum([a['area'] for a in land_condition_baseline['soil_organic_carbon']['summary']['areas']])))\n",
    "\n",
    "print('soil_organic_carbon summary: {}'.format(land_condition_baseline['soil_organic_carbon']['summary']))\n",
    "\n",
    "\n",
    "print(sum([a['area'] for a in d['land_condition']['baseline']['sdg']['summary']['areas']]))\n",
    "\n",
    "\n",
    "print(d['land_condition']['baseline']['land_cover']['crosstab_by_land_cover_class'].keys())\n",
    "print(d['land_condition']['baseline']['land_cover']['land_cover_areas_by_year'])\n",
    "print(d['land_condition']['baseline']['land_cover'].keys())\n",
    "\n",
    "    "
   ]
  },
  {
   "cell_type": "code",
   "execution_count": null,
   "metadata": {},
   "outputs": [],
   "source": []
  }
 ],
 "metadata": {
  "kernelspec": {
   "display_name": "Python 3",
   "language": "python",
   "name": "python3"
  },
  "language_info": {
   "codemirror_mode": {
    "name": "ipython",
    "version": 3
   },
   "file_extension": ".py",
   "mimetype": "text/x-python",
   "name": "python",
   "nbconvert_exporter": "python",
   "pygments_lexer": "ipython3",
   "version": "3.8.5"
  }
 },
 "nbformat": 4,
 "nbformat_minor": 4
}
